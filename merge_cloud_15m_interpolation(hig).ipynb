{
 "cells": [
  {
   "cell_type": "markdown",
   "id": "785a99ab",
   "metadata": {},
   "source": [
    "# <font color=#0000FF>每10分鐘雲資料重取樣為每15分鐘一筆資料，此外將low為NaN的值用mid來填補，將mid為NaN的值用hig來填補</font>"
   ]
  },
  {
   "cell_type": "code",
   "execution_count": 1,
   "id": "ec054601",
   "metadata": {},
   "outputs": [],
   "source": [
    "#將十分鐘一筆資料重取樣為15分鐘一筆。ffill方法用來填補缺失值，確保資料能夠被正確重取樣。\n",
    "#然後使用isin方法檢查df2(15m)中的日期是否在df(10m)中存在，如果存在則將資料複製到df2中。最後，使用interpolate方法對df2進行線性插值。\n",
    "import pandas as pd\n",
    "import numpy as np\n",
    "\n",
    "# 讀取資料\n",
    "df = pd.read_csv(f'./cloud_cover/new_fst.v35.csv')\n",
    "\n",
    "# 將date_time欄位轉換成datetime格式\n",
    "df['fst_time'] = pd.to_datetime(df['fst_time'])\n",
    "\n",
    "# 做填充\n",
    "df['mid'].fillna(df['hig'], inplace=True)\n",
    "df['low'].fillna(df['mid'], inplace=True)\n",
    "\n",
    "\n",
    "# 將fst_time欄位設定為索引\n",
    "df.set_index('fst_time', inplace=True)\n",
    "\n",
    "# 進行重取樣，將十分鐘一筆資料重取樣為5分鐘一筆\n",
    "df = df.resample('5T').first().reset_index()\n",
    "\n",
    "df['lon'].fillna('120.560722', inplace=True)\n",
    "df['lat'].fillna('24.066583', inplace=True)\n",
    "\n",
    "df[['low','mid','hig','cloud']] = df[['low','mid','hig','cloud']].interpolate()\n",
    "\n",
    "# 將dfst_time轉換為datetime格式\n",
    "df['fst_time'] = pd.to_datetime(df['fst_time'])\n",
    "\n",
    "# 選擇時間等於15、30、45或00分的資料\n",
    "df = df[df['fst_time'].dt.minute.isin([15, 30, 45, 0])]\n",
    "\n",
    "# 刪除date_time欄位\n",
    "df.drop('date_time', axis=1, inplace=True)\n",
    "\n",
    "# 將\"fst_time\"列名更改為\"date_time\"\n",
    "df = df.rename(columns={'fst_time': 'date_time'})\n",
    "\n",
    "# 輸出df2\n",
    "df.to_csv(f'./cloud_cover/newcloud_10m_to_15m_hig_colud.csv', index=None)"
   ]
  },
  {
   "cell_type": "code",
   "execution_count": 2,
   "id": "10a2b180",
   "metadata": {},
   "outputs": [],
   "source": [
    "#history_15的csv檔\n",
    "df_X = pd.read_csv(f'./dataset/solar_汙水廠_newbig_sort(history_15m).csv')\n",
    "dfXlen = len(df_X)\n",
    "\n",
    "#篩選時間大於等於2022/2/1小於等於2022/10/31(因為雲資料集只有該區間時間資料)\n",
    "dfXlen_result = df_X[(df_X['TIME_TO_INTERVAL'] >= '2022-02-01 01:00:00') \n",
    "                & (df_X['TIME_TO_INTERVAL'] < '2022-11-01 00:00:00')]\n",
    "\n",
    "#將原有索引替換為從0開始的新索引\n",
    "dfXlen_result = dfXlen_result.reset_index(drop=True).reset_index(drop=True)\n",
    "df = df.reset_index(drop=True)\n",
    "\n",
    "#合併history_15的csv檔\n",
    "df_all = pd.concat([dfXlen_result,df],axis=1)\n",
    "\n",
    "#存成csv\n",
    "df_all.to_csv(f'./dataset/marge_10m_to_15m_hig_colud_202305.csv', index=None)"
   ]
  },
  {
   "cell_type": "code",
   "execution_count": null,
   "id": "f89b275d",
   "metadata": {},
   "outputs": [],
   "source": []
  }
 ],
 "metadata": {
  "kernelspec": {
   "display_name": "Python 3",
   "language": "python",
   "name": "python3"
  },
  "language_info": {
   "codemirror_mode": {
    "name": "ipython",
    "version": 3
   },
   "file_extension": ".py",
   "mimetype": "text/x-python",
   "name": "python",
   "nbconvert_exporter": "python",
   "pygments_lexer": "ipython3",
   "version": "3.6.13"
  }
 },
 "nbformat": 4,
 "nbformat_minor": 5
}
