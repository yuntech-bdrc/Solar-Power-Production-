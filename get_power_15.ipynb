{
 "cells": [
  {
   "cell_type": "code",
   "execution_count": 1,
   "id": "d8f39bb2",
   "metadata": {},
   "outputs": [],
   "source": [
    "import pandas as pd\n",
    "import numpy as np\n",
    "import matplotlib.pyplot as plt\n",
    "import os\n",
    "import time\n",
    "import datetime\n",
    "from influxdb import InfluxDBClient\n",
    "databasename = ['MG1']\n",
    "client = InfluxDBClient('120.107.146.56', 8086, 'ncue01', 'Q!A@Z#WSX', 'MG1') "
   ]
  },
  {
   "cell_type": "code",
   "execution_count": 2,
   "id": "c2e76129",
   "metadata": {},
   "outputs": [
    {
     "data": {
      "text/html": [
       "        <script type=\"text/javascript\">\n",
       "        window.PlotlyConfig = {MathJaxConfig: 'local'};\n",
       "        if (window.MathJax) {MathJax.Hub.Config({SVG: {font: \"STIX-Web\"}});}\n",
       "        if (typeof require !== 'undefined') {\n",
       "        require.undef(\"plotly\");\n",
       "        requirejs.config({\n",
       "            paths: {\n",
       "                'plotly': ['https://cdn.plot.ly/plotly-2.4.2.min']\n",
       "            }\n",
       "        });\n",
       "        require(['plotly'], function(Plotly) {\n",
       "            window._Plotly = Plotly;\n",
       "        });\n",
       "        }\n",
       "        </script>\n",
       "        "
      ]
     },
     "metadata": {},
     "output_type": "display_data"
    }
   ],
   "source": [
    "## 在線使用設置##############\n",
    "import plotly as py\n",
    "import plotly.graph_objs as go\n",
    "from plotly.offline import iplot, init_notebook_mode\n",
    "import plotly.express as px\n",
    "import cufflinks as cf\n",
    "cf.go_offline()\n",
    "cf.set_config_file(offline=False, world_readable=True)"
   ]
  },
  {
   "cell_type": "code",
   "execution_count": 3,
   "id": "294e26ea",
   "metadata": {},
   "outputs": [],
   "source": [
    "#轉為小時單位\n",
    "def bulid_hour_data(data_raw):\n",
    "    data_raw['TIME_TO_INTERVAL'] = pd.to_datetime(data_raw['TIME_TO_INTERVAL'])\n",
    "    data_raw['Hour'] = data_raw['TIME_TO_INTERVAL'].dt.hour\n",
    "    data_raw['Date'] = data_raw['TIME_TO_INTERVAL'].dt.date\n",
    "    data_raw = data_raw.groupby(['Date', 'Hour']).mean().reset_index()\n",
    "    data_raw['TIME_TO_INTERVAL'] = data_raw.apply(lambda raw:'{} {:02d}:00:00'.format(raw['Date'], int(raw['Hour'])), axis=1)\n",
    "    return data_raw\n",
    "#轉為15分鐘單位\n",
    "def build_quarter_hour_data(data_raw):\n",
    "    data_raw['TIME_TO_INTERVAL'] = pd.to_datetime(data_raw['TIME_TO_INTERVAL'])\n",
    "    data_raw['Quarter'] = data_raw['TIME_TO_INTERVAL'].dt.floor('15T')\n",
    "    data_raw['Date'] = data_raw['Quarter'].dt.date\n",
    "    data_raw = data_raw.groupby(['Date', 'Quarter']).mean().reset_index()\n",
    "    data_raw['TIME_TO_INTERVAL'] = data_raw['Quarter'].apply(lambda dt: dt.strftime('%Y-%m-%d %H:%M:%S'))\n",
    "    return data_raw"
   ]
  },
  {
   "cell_type": "code",
   "execution_count": 4,
   "id": "92473f13",
   "metadata": {},
   "outputs": [],
   "source": [
    "#抓取資料庫全部資料\n",
    "def get_power():\n",
    "    tablename = 'MG1_PV'\n",
    "    result = client.query(f'SELECT * FROM {tablename} where Time >= 2021-05-03') \n",
    "#     result = client.query(f'SELECT * FROM {tablename}') \n",
    "    data =  list(result.get_points())\n",
    "    data = pd.DataFrame(data)\n",
    "\n",
    "    data = data.rename(columns={'Time':'TIME_TO_INTERVAL'})\n",
    "    data = build_quarter_hour_data(data)\n",
    "    data.to_csv('Dataset/merge_power_data(hour).csv')"
   ]
  },
  {
   "cell_type": "code",
   "execution_count": 5,
   "id": "925261f3",
   "metadata": {},
   "outputs": [],
   "source": [
    "#根據時間抓取該時資料\n",
    "def get_power_date(date):\n",
    "    tablename = 'MG1_PV'\n",
    "    result = client.query(f\"SELECT * FROM {tablename} where Time >= '{date}' - 8h\") \n",
    "#     result = client.query(f\"SELECT * FROM {tablename} where Time >= '{date}'\") \n",
    "#     result = client.query(f'SELECT * FROM {tablename}') \n",
    "    data =  list(result.get_points())\n",
    "    data = pd.DataFrame(data)\n",
    "    data = data.rename(columns={'Time':'TIME_TO_INTERVAL'})\n",
    "    data = build_quarter_hour_data(data)\n",
    "    data = data[['kP','TIME_TO_INTERVAL']]\n",
    "    data.set_axis(['Power','TIME_TO_INTERVAL'], axis='columns', inplace=True)\n",
    "    return data\n",
    "#     data.to_csv('Dataset/merge_power_data(hour).csv')"
   ]
  },
  {
   "cell_type": "code",
   "execution_count": 6,
   "id": "af889ef0",
   "metadata": {},
   "outputs": [],
   "source": [
    "def new_power(row, datas):\n",
    "    data = datas[datas['TIME_TO_INTERVAL'].eq(row['TIME_TO_INTERVAL'])]\n",
    "    if data.any(axis=None):\n",
    "        return data['kP'].values[0]\n",
    "    else:\n",
    "        return row['Power']\n",
    "\n",
    "# merge_raw['Power'] = merge_raw.apply(lambda x:new_power(x, data), axis=1)"
   ]
  },
  {
   "cell_type": "markdown",
   "id": "0a8a280a",
   "metadata": {},
   "source": [
    "# 發送email"
   ]
  },
  {
   "cell_type": "code",
   "execution_count": 7,
   "id": "de7d181e",
   "metadata": {},
   "outputs": [],
   "source": [
    "import smtplib\n",
    "import schedule\n",
    "import time\n",
    "from email.mime.text import MIMEText\n",
    "from email.mime.multipart import MIMEMultipart\n",
    "from email.mime.application import MIMEApplication\n",
    "\n",
    "def send_email():\n",
    "    from_email = 'idsl5397@gmail.com'\n",
    "    to_email = 'idsl5397@gmail.com'\n",
    "    subject = 'Scheduled Email'\n",
    "    body = 'get_power_15正常執行'\n",
    "\n",
    "    msg = MIMEMultipart()\n",
    "    msg['From'] = from_email\n",
    "    msg['To'] = to_email\n",
    "    msg['Subject'] = subject\n",
    "\n",
    "    msg.attach(MIMEText(body, 'plain'))\n",
    "\n",
    "    server = smtplib.SMTP('smtp.gmail.com', 587)  # Update with your SMTP server details\n",
    "    server.starttls()\n",
    "    server.login(from_email, 'loqcvdrhhmgdlijl')  # Update with your email password\n",
    "\n",
    "    server.sendmail(from_email, to_email, msg.as_string())\n",
    "    server.quit()"
   ]
  },
  {
   "cell_type": "markdown",
   "id": "15ca43b2",
   "metadata": {},
   "source": [
    "# 每小時02分爬取一次"
   ]
  },
  {
   "cell_type": "code",
   "execution_count": null,
   "id": "cfd79d6f",
   "metadata": {
    "scrolled": true
   },
   "outputs": [
    {
     "name": "stdout",
     "output_type": "stream",
     "text": [
      "2023-09-22 00:00:00\n",
      "okok\n",
      "4.0274977684021\n",
      "2023-09-22 00:00:00\n",
      "okok\n",
      "3.8037540912628174\n",
      "2023-09-22 00:00:00\n",
      "okok\n",
      "3.9220197200775146\n",
      "2023-09-22 00:00:00\n",
      "okok\n",
      "3.756737470626831\n",
      "2023-09-22 00:00:00\n",
      "okok\n",
      "3.9151089191436768\n",
      "2023-09-22 00:00:00\n",
      "okok\n",
      "3.7980358600616455\n",
      "2023-09-22 00:00:00\n",
      "okok\n",
      "3.906984806060791\n",
      "2023-09-23 00:00:00\n",
      "okok\n",
      "3.0855965614318848\n",
      "2023-09-23 00:00:00\n",
      "okok\n",
      "4.084815502166748\n",
      "2023-09-23 00:00:00\n",
      "okok\n",
      "4.849104404449463\n",
      "2023-09-23 00:00:00\n",
      "okok\n",
      "4.773914813995361\n",
      "2023-09-23 00:00:00\n",
      "okok\n",
      "4.868921518325806\n",
      "2023-09-23 00:00:00\n",
      "okok\n",
      "4.852119445800781\n",
      "2023-09-23 00:00:00\n",
      "okok\n",
      "4.756804466247559\n",
      "2023-09-23 00:00:00\n",
      "okok\n",
      "5.095213413238525\n",
      "2023-09-23 00:00:00\n",
      "okok\n",
      "4.555338621139526\n",
      "2023-09-23 00:00:00\n",
      "okok\n",
      "4.523196220397949\n",
      "2023-09-23 00:00:00\n",
      "okok\n",
      "5.365859270095825\n",
      "2023-09-23 00:00:00\n",
      "okok\n",
      "3.4598333835601807\n",
      "EMAIL SEND OK\n",
      "2023-09-23 00:00:00\n",
      "okok\n",
      "3.5477120876312256\n",
      "2023-09-23 00:00:00\n",
      "okok\n",
      "3.5784475803375244\n",
      "2023-09-23 00:00:00\n",
      "okok\n",
      "5.8247761726379395\n",
      "2023-09-23 00:00:00\n",
      "okok\n",
      "6.837637662887573\n",
      "2023-09-23 00:00:00\n",
      "okok\n",
      "6.218386650085449\n",
      "2023-09-23 00:00:00\n",
      "okok\n",
      "6.626692295074463\n",
      "2023-09-23 00:00:00\n",
      "okok\n",
      "7.154566049575806\n",
      "2023-09-23 00:00:00\n",
      "okok\n",
      "7.1161048412323\n",
      "2023-09-23 00:00:00\n",
      "okok\n",
      "7.382781505584717\n",
      "2023-09-23 00:00:00\n",
      "okok\n",
      "5.7501444816589355\n",
      "2023-09-23 00:00:00\n",
      "okok\n",
      "7.193915367126465\n",
      "2023-09-23 00:00:00\n",
      "okok\n",
      "8.071502923965454\n",
      "2023-09-24 00:00:00\n",
      "okok\n",
      "5.236708164215088\n",
      "2023-09-24 00:00:00\n",
      "okok\n",
      "5.714116334915161\n"
     ]
    }
   ],
   "source": [
    "while(True):\n",
    "    localtime = time.localtime()\n",
    "    result = time.strftime(\"%M:%S\", localtime)\n",
    "    result_hour = time.strftime(\"%H\", localtime)\n",
    "      \n",
    "  \n",
    "    if(result<='02:00'):\n",
    "        if (result_hour == '12'):\n",
    "            send_email()\n",
    "            print(\"EMAIL SEND OK\")\n",
    "        \n",
    "        start_time = time.time()\n",
    "        # 設定要產生的開始與結束日期\n",
    "        day = datetime.datetime.today().strftime('%Y-%m-%d')\n",
    "        day = pd.to_datetime(day)\n",
    "        start = pd.to_datetime(str(day.year)+'-'+str(day.month)+'-'+str(day.day))-datetime.timedelta(days=3)\n",
    "        print(start)\n",
    "        data = get_power_date(start)\n",
    "        old = pd.read_csv(f'./power_data/solar_汙水廠_history(get_15m_power).csv', low_memory=False)\n",
    "        d = pd.concat([old, data], axis=0, ignore_index=True)\n",
    "        d = d.drop_duplicates(subset=['TIME_TO_INTERVAL'], keep='last')\n",
    "        d.to_csv(f'./power_data/solar_汙水廠_history(get_15m_power).csv', index=None)\n",
    "        print('okok')\n",
    "        end_time = time.time()\n",
    "        finish = end_time - start_time\n",
    "        print(finish)\n",
    "        time.sleep(3600-finish)\n",
    "    else:\n",
    "        m,s = result.strip().split(\":\")\n",
    "        start_time = int(m)*60+int(s)\n",
    "        time.sleep(3600-start_time)"
   ]
  },
  {
   "cell_type": "markdown",
   "id": "9fb17505",
   "metadata": {},
   "source": [
    "# 每15分爬取一次"
   ]
  },
  {
   "cell_type": "code",
   "execution_count": null,
   "id": "9a2be525",
   "metadata": {},
   "outputs": [],
   "source": [
    "# while(True):\n",
    "#     localtime = time.localtime()\n",
    "#     result = time.strftime(\"%M:%S\", localtime)\n",
    "#     if(result<='02:00'):\n",
    "#         start_time = time.time()\n",
    "#         # 設定要產生的開始與結束日期\n",
    "#         day = datetime.datetime.today()\n",
    "#         day = pd.to_datetime(day, format='%Y%m%d')\n",
    "#         start = pd.to_datetime(str(day.year)+'-'+str(day.month)+'-'+str(day.day))-datetime.timedelta(days=1)\n",
    "#         print(start)\n",
    "#         data = get_power_date(start)\n",
    "#         old = pd.read_csv(f'./power_data/solar_汙水廠_history.csv', low_memory=False)\n",
    "#         d = pd.concat([old, data], axis=0, ignore_index=True)\n",
    "#         d = d.drop_duplicates(subset=['TIME_TO_INTERVAL'], keep='last')\n",
    "#         d.to_csv(f'./power_data/solar_汙水廠_history.csv', index=None)\n",
    "#         print('okok')\n",
    "#         end_time = time.time()\n",
    "#         finish = end_time - start_time\n",
    "#         print(finish)\n",
    "#         time.sleep(3600-finish)\n",
    "#     else:\n",
    "#         m,s = result.strip().split(\":\")\n",
    "#         start_time = int(m)*60+int(s)\n",
    "#         time.sleep(3600-start_time)"
   ]
  },
  {
   "cell_type": "code",
   "execution_count": null,
   "id": "9a6e55ac",
   "metadata": {},
   "outputs": [],
   "source": [
    "# start = '2022-01-01'\n",
    "# data = get_power_date(start)\n",
    "# old = pd.read_csv(f'./power_data/solar_汙水廠_history.csv')\n",
    "# d = pd.concat([old, data], axis=0, ignore_index=True)\n",
    "# d = d.drop_duplicates(subset=['TIME_TO_INTERVAL'], keep='last')\n",
    "# d.to_csv(f'./power_data/solar_汙水廠_history.csv', index=None)"
   ]
  },
  {
   "cell_type": "code",
   "execution_count": null,
   "id": "e1f0577a",
   "metadata": {},
   "outputs": [],
   "source": [
    "# merge_power_data = pd.read_csv('./power_data/merge_power_data(hour).csv')\n",
    "# merge_power_data = merge_power_data[['kP','TIME_TO_INTERVAL']]\n",
    "# merge_power_data.set_axis(['Power','TIME_TO_INTERVAL'], axis='columns', inplace=True)\n",
    "# merge_power_data"
   ]
  },
  {
   "cell_type": "code",
   "execution_count": null,
   "id": "cbde75b1",
   "metadata": {},
   "outputs": [],
   "source": [
    "# solar_allhour = pd.read_csv('./power_data/solar_汙水廠(allhour).csv')\n",
    "# solar_allhour = solar_allhour[['Power','TIME_TO_INTERVAL']]\n",
    "# solar_allhour"
   ]
  },
  {
   "cell_type": "code",
   "execution_count": null,
   "id": "a08ce22a",
   "metadata": {},
   "outputs": [],
   "source": [
    "# merge_data = pd.concat([merge_power_data,solar_allhour],join='outer')\n",
    "# merge_data = merge_data.drop_duplicates(keep='first',inplace=False)\n",
    "# merge_data = merge_data.sort_values(by=['TIME_TO_INTERVAL'])\n",
    "# merge_data = merge_data.reset_index(drop=True,inplace=False)\n",
    "# merge_data.to_csv('./power_data/solar_汙水廠_history.csv',index=False)"
   ]
  },
  {
   "cell_type": "code",
   "execution_count": null,
   "id": "00fe8f66",
   "metadata": {},
   "outputs": [],
   "source": [
    "# merge_data"
   ]
  },
  {
   "cell_type": "markdown",
   "id": "17b5d4a8",
   "metadata": {},
   "source": [
    "## 合併歷史原始資料成15分鐘一筆"
   ]
  },
  {
   "cell_type": "code",
   "execution_count": null,
   "id": "4358947d",
   "metadata": {},
   "outputs": [],
   "source": [
    "# MG1 = pd.read_csv(f'./power_data/original/MG1_PV_0.csv')\n",
    "# MG1"
   ]
  },
  {
   "cell_type": "code",
   "execution_count": null,
   "id": "8a73f5e2",
   "metadata": {},
   "outputs": [],
   "source": [
    "# import pandas as pd\n",
    "\n",
    "# # files = [f'./power_data/original/MG1_PV_0.csv', f'./power_data/original/MG1_PV_500000.csv']\n",
    "# # dataframes = []\n",
    "\n",
    "# # for file in files:\n",
    "# #     df = pd.read_csv(file)\n",
    "# #     dataframes.append(df)\n",
    "    \n",
    "# # dataframes\n",
    "\n",
    "# # 讀取資料\n",
    "# data = pd.read_csv(f'./power_data/original/MG1_PV_8000000.csv', index_col=0)\n",
    "\n",
    "# data['Time'] = pd.to_datetime(data['Time'])\n",
    "\n",
    "# # 設定時間欄位為索引\n",
    "# data.set_index('Time', inplace=True)\n",
    "\n",
    "# # 將時間戳記轉換成 datetime 格式，並設定為 DataFrame 的 index\n",
    "\n",
    "# # 將資料轉換成每 15 分鐘的平均值\n",
    "# resampled_data = data.resample('15T').mean()\n",
    "# resampled_data = resampled_data.reset_index()\n",
    "\n",
    "# # 輸出轉換後的資料\n",
    "# print(resampled_data)\n",
    "\n",
    "# data_old = pd.read_csv(f'./power_data/original/2023_5_9轉15分/15m.csv')\n",
    "# d = pd.concat([data_old, resampled_data], axis=0, ignore_index=True)\n",
    "# d = d.drop_duplicates(subset=['Time'], keep='last')\n",
    "# d.to_csv(f'./power_data/original/2023_5_9轉15分/15m.csv', index=None)\n",
    "# # resampled_data.to_csv('./power_data/original/2023_5_9轉15分/15m.csv', index=None)"
   ]
  },
  {
   "cell_type": "code",
   "execution_count": null,
   "id": "848d3e74",
   "metadata": {},
   "outputs": [],
   "source": []
  }
 ],
 "metadata": {
  "kernelspec": {
   "display_name": "Python 3",
   "language": "python",
   "name": "python3"
  },
  "language_info": {
   "codemirror_mode": {
    "name": "ipython",
    "version": 3
   },
   "file_extension": ".py",
   "mimetype": "text/x-python",
   "name": "python",
   "nbconvert_exporter": "python",
   "pygments_lexer": "ipython3",
   "version": "3.6.13"
  }
 },
 "nbformat": 4,
 "nbformat_minor": 5
}
