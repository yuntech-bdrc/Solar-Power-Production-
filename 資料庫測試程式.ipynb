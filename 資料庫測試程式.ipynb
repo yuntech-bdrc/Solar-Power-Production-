{
 "cells": [
  {
   "cell_type": "code",
   "execution_count": 2,
   "id": "c268c3c2",
   "metadata": {},
   "outputs": [],
   "source": [
    "import pandas as pd\n",
    "import numpy as np\n",
    "import datetime\n",
    "import time\n",
    "import joblib\n",
    "import os\n",
    "#資料庫\n",
    "from influxdb import InfluxDBClient\n",
    "#載入模型\n",
    "import joblib"
   ]
  },
  {
   "cell_type": "code",
   "execution_count": 16,
   "id": "c9a7cc54",
   "metadata": {},
   "outputs": [],
   "source": [
    "#創建資料庫\n",
    "client = InfluxDBClient('120.107.146.56', 8086, 'ncue01', 'Q!A@Z#WSX')\n",
    "#client.create_database('Hour_Ahead_Pred')"
   ]
  },
  {
   "cell_type": "markdown",
   "id": "2772ef4d",
   "metadata": {},
   "source": [
    "# 目前有哪些資料庫名稱"
   ]
  },
  {
   "cell_type": "code",
   "execution_count": 3,
   "id": "0bf9bd12",
   "metadata": {},
   "outputs": [
    {
     "data": {
      "text/plain": [
       "[{'name': '_internal'},\n",
       " {'name': 'ems_db'},\n",
       " {'name': 'MG1'},\n",
       " {'name': 'sensor_db'},\n",
       " {'name': 'dorm_db'},\n",
       " {'name': 'TPPF'},\n",
       " {'name': 'colife3'},\n",
       " {'name': 'v2g'},\n",
       " {'name': 'SolarBank'},\n",
       " {'name': 'Demand'},\n",
       " {'name': 'BESS'},\n",
       " {'name': 'Minute_Ahead_Pred'},\n",
       " {'name': 'Min_Ahead_Pred'},\n",
       " {'name': 'Hour_Ahead_Pred'},\n",
       " {'name': 'Day_Ahead_Pred'},\n",
       " {'name': 'Pred_power'},\n",
       " {'name': 'MG3'},\n",
       " {'name': '15_minute_prediction'}]"
      ]
     },
     "execution_count": 3,
     "metadata": {},
     "output_type": "execute_result"
    }
   ],
   "source": [
    "client = InfluxDBClient('120.107.146.56', 8086, 'ncue01', 'Q!A@Z#WSX','Minute_Ahead_Pred')\n",
    "# 目前有哪些資料庫名稱\n",
    "client.get_list_database()"
   ]
  },
  {
   "cell_type": "code",
   "execution_count": 4,
   "id": "f9f1371d",
   "metadata": {},
   "outputs": [
    {
     "data": {
      "text/plain": [
       "[]"
      ]
     },
     "execution_count": 4,
     "metadata": {},
     "output_type": "execute_result"
    }
   ],
   "source": [
    "tables = client.query('show measurements;')\n",
    "list(tables.get_points())"
   ]
  },
  {
   "cell_type": "markdown",
   "id": "0c82a67a",
   "metadata": {},
   "source": [
    "# 資料庫目前有哪些資料表"
   ]
  },
  {
   "cell_type": "code",
   "execution_count": 5,
   "id": "d2d79544",
   "metadata": {
    "scrolled": true
   },
   "outputs": [
    {
     "name": "stdout",
     "output_type": "stream",
     "text": [
      "汙水場\n"
     ]
    }
   ],
   "source": [
    "result = client.query('SHOW MEASUREMENTS', database='15_minute_prediction')\n",
    "measurements = result.get_points()\n",
    "for measurement in measurements:\n",
    "    print(measurement['name'])"
   ]
  },
  {
   "cell_type": "markdown",
   "id": "29392540",
   "metadata": {},
   "source": [
    "# 資料表資料"
   ]
  },
  {
   "cell_type": "code",
   "execution_count": 45,
   "id": "a864adbd",
   "metadata": {
    "scrolled": true
   },
   "outputs": [
    {
     "data": {
      "text/html": [
       "<div>\n",
       "<style scoped>\n",
       "    .dataframe tbody tr th:only-of-type {\n",
       "        vertical-align: middle;\n",
       "    }\n",
       "\n",
       "    .dataframe tbody tr th {\n",
       "        vertical-align: top;\n",
       "    }\n",
       "\n",
       "    .dataframe thead th {\n",
       "        text-align: right;\n",
       "    }\n",
       "</style>\n",
       "<table border=\"1\" class=\"dataframe\">\n",
       "  <thead>\n",
       "    <tr style=\"text-align: right;\">\n",
       "      <th></th>\n",
       "      <th>time</th>\n",
       "      <th>Power</th>\n",
       "      <th>UpdateTime</th>\n",
       "    </tr>\n",
       "  </thead>\n",
       "  <tbody>\n",
       "    <tr>\n",
       "      <th>0</th>\n",
       "      <td>2023-08-04T14:00:00Z</td>\n",
       "      <td>4.142928</td>\n",
       "      <td>2023-08-04 14:03:02</td>\n",
       "    </tr>\n",
       "    <tr>\n",
       "      <th>1</th>\n",
       "      <td>2023-08-04T14:15:00Z</td>\n",
       "      <td>1.371566</td>\n",
       "      <td>2023-08-04 14:03:02</td>\n",
       "    </tr>\n",
       "    <tr>\n",
       "      <th>2</th>\n",
       "      <td>2023-08-04T14:30:00Z</td>\n",
       "      <td>0.918998</td>\n",
       "      <td>2023-08-04 14:03:02</td>\n",
       "    </tr>\n",
       "    <tr>\n",
       "      <th>3</th>\n",
       "      <td>2023-08-04T14:45:00Z</td>\n",
       "      <td>5.318611</td>\n",
       "      <td>2023-08-04 14:03:02</td>\n",
       "    </tr>\n",
       "    <tr>\n",
       "      <th>4</th>\n",
       "      <td>2023-08-04T15:00:00Z</td>\n",
       "      <td>12.974091</td>\n",
       "      <td>2023-08-04 15:03:01</td>\n",
       "    </tr>\n",
       "    <tr>\n",
       "      <th>...</th>\n",
       "      <td>...</td>\n",
       "      <td>...</td>\n",
       "      <td>...</td>\n",
       "    </tr>\n",
       "    <tr>\n",
       "      <th>95</th>\n",
       "      <td>2023-08-05T13:45:00Z</td>\n",
       "      <td>1.666089</td>\n",
       "      <td>2023-08-05 13:03:01</td>\n",
       "    </tr>\n",
       "    <tr>\n",
       "      <th>96</th>\n",
       "      <td>2023-08-05T14:00:00Z</td>\n",
       "      <td>8.430031</td>\n",
       "      <td>2023-08-05 14:03:01</td>\n",
       "    </tr>\n",
       "    <tr>\n",
       "      <th>97</th>\n",
       "      <td>2023-08-05T14:15:00Z</td>\n",
       "      <td>5.306454</td>\n",
       "      <td>2023-08-05 14:03:01</td>\n",
       "    </tr>\n",
       "    <tr>\n",
       "      <th>98</th>\n",
       "      <td>2023-08-05T14:30:00Z</td>\n",
       "      <td>9.755180</td>\n",
       "      <td>2023-08-05 14:03:01</td>\n",
       "    </tr>\n",
       "    <tr>\n",
       "      <th>99</th>\n",
       "      <td>2023-08-05T14:45:00Z</td>\n",
       "      <td>6.028753</td>\n",
       "      <td>2023-08-05 14:03:01</td>\n",
       "    </tr>\n",
       "  </tbody>\n",
       "</table>\n",
       "<p>100 rows × 3 columns</p>\n",
       "</div>"
      ],
      "text/plain": [
       "                    time      Power           UpdateTime\n",
       "0   2023-08-04T14:00:00Z   4.142928  2023-08-04 14:03:02\n",
       "1   2023-08-04T14:15:00Z   1.371566  2023-08-04 14:03:02\n",
       "2   2023-08-04T14:30:00Z   0.918998  2023-08-04 14:03:02\n",
       "3   2023-08-04T14:45:00Z   5.318611  2023-08-04 14:03:02\n",
       "4   2023-08-04T15:00:00Z  12.974091  2023-08-04 15:03:01\n",
       "..                   ...        ...                  ...\n",
       "95  2023-08-05T13:45:00Z   1.666089  2023-08-05 13:03:01\n",
       "96  2023-08-05T14:00:00Z   8.430031  2023-08-05 14:03:01\n",
       "97  2023-08-05T14:15:00Z   5.306454  2023-08-05 14:03:01\n",
       "98  2023-08-05T14:30:00Z   9.755180  2023-08-05 14:03:01\n",
       "99  2023-08-05T14:45:00Z   6.028753  2023-08-05 14:03:01\n",
       "\n",
       "[100 rows x 3 columns]"
      ]
     },
     "execution_count": 45,
     "metadata": {},
     "output_type": "execute_result"
    }
   ],
   "source": [
    "client = InfluxDBClient('120.107.146.56', 8086, 'ncue01', 'Q!A@Z#WSX','15_minute_prediction')\n",
    "result = client.query('select * from \"汙水場\"')  \n",
    "result = pd.DataFrame(list(result.get_points()))\n",
    "result.head(150)\n",
    "# print(list(result.get_points()))"
   ]
  },
  {
   "cell_type": "markdown",
   "id": "4a4faebb",
   "metadata": {},
   "source": [
    "# 刪除資料表"
   ]
  },
  {
   "cell_type": "code",
   "execution_count": 38,
   "id": "1814a95c",
   "metadata": {},
   "outputs": [],
   "source": [
    "client = InfluxDBClient('120.107.146.56', 8086, 'ncue01', 'Q!A@Z#WSX')\n",
    "client.drop_database('15_minute_prediction')"
   ]
  },
  {
   "cell_type": "code",
   "execution_count": null,
   "id": "b2ec007b",
   "metadata": {},
   "outputs": [],
   "source": []
  }
 ],
 "metadata": {
  "kernelspec": {
   "display_name": "Python 3",
   "language": "python",
   "name": "python3"
  },
  "language_info": {
   "codemirror_mode": {
    "name": "ipython",
    "version": 3
   },
   "file_extension": ".py",
   "mimetype": "text/x-python",
   "name": "python",
   "nbconvert_exporter": "python",
   "pygments_lexer": "ipython3",
   "version": "3.6.13"
  }
 },
 "nbformat": 4,
 "nbformat_minor": 5
}
